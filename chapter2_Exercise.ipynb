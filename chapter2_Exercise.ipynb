{
  "nbformat": 4,
  "nbformat_minor": 0,
  "metadata": {
    "colab": {
      "name": "chapter2_Exercise.ipynb",
      "provenance": [],
      "collapsed_sections": [],
      "authorship_tag": "ABX9TyPEzWxJt24miv2ahV2QLa90",
      "include_colab_link": true
    },
    "kernelspec": {
      "name": "python3",
      "display_name": "Python 3"
    }
  },
  "cells": [
    {
      "cell_type": "markdown",
      "metadata": {
        "id": "view-in-github",
        "colab_type": "text"
      },
      "source": [
        "<a href=\"https://colab.research.google.com/github/tharindatj/HandsOnMachinerLearning/blob/master/chapter2_Exercise.ipynb\" target=\"_parent\"><img src=\"https://colab.research.google.com/assets/colab-badge.svg\" alt=\"Open In Colab\"/></a>"
      ]
    },
    {
      "cell_type": "markdown",
      "metadata": {
        "id": "eKtLODS9-DJ_",
        "colab_type": "text"
      },
      "source": [
        "Importing liabraries"
      ]
    },
    {
      "cell_type": "code",
      "metadata": {
        "id": "d3WnQUZc8arK",
        "colab_type": "code",
        "colab": {}
      },
      "source": [
        "import pandas as pd\n",
        "import numpy as np\n",
        "import matplotlib.pyplot as plt"
      ],
      "execution_count": 1,
      "outputs": []
    },
    {
      "cell_type": "markdown",
      "metadata": {
        "id": "DhB7TfZn-HNk",
        "colab_type": "text"
      },
      "source": [
        "Load the data"
      ]
    },
    {
      "cell_type": "code",
      "metadata": {
        "id": "I9axAO_L91qe",
        "colab_type": "code",
        "colab": {
          "base_uri": "https://localhost:8080/",
          "height": 706
        },
        "outputId": "2d2ee39a-0e1e-44f6-a193-a71414ab0efa"
      },
      "source": [
        "housing = pd.read_csv('housing.csv')\n",
        "print(housing.head())\n",
        "print(housing.columns)\n",
        "print(housing.describe())\n",
        "print(housing.info())"
      ],
      "execution_count": 7,
      "outputs": [
        {
          "output_type": "stream",
          "text": [
            "   longitude  latitude  ...  median_house_value  ocean_proximity\n",
            "0    -122.23     37.88  ...              452600         NEAR BAY\n",
            "1    -122.22     37.86  ...              358500         NEAR BAY\n",
            "2    -122.24     37.85  ...              352100         NEAR BAY\n",
            "3    -122.25     37.85  ...              341300         NEAR BAY\n",
            "4    -122.25     37.85  ...              342200         NEAR BAY\n",
            "\n",
            "[5 rows x 10 columns]\n",
            "Index(['longitude', 'latitude', 'housing_median_age', 'total_rooms',\n",
            "       'total_bedrooms', 'population', 'households', 'median_income',\n",
            "       'median_house_value', 'ocean_proximity'],\n",
            "      dtype='object')\n",
            "          longitude      latitude  ...  median_income  median_house_value\n",
            "count  20640.000000  20640.000000  ...   20640.000000        20640.000000\n",
            "mean    -119.569704     35.631861  ...       3.870671       206855.816909\n",
            "std        2.003532      2.135952  ...       1.899822       115395.615874\n",
            "min     -124.350000     32.540000  ...       0.499900        14999.000000\n",
            "25%     -121.800000     33.930000  ...       2.563400       119600.000000\n",
            "50%     -118.490000     34.260000  ...       3.534800       179700.000000\n",
            "75%     -118.010000     37.710000  ...       4.743250       264725.000000\n",
            "max     -114.310000     41.950000  ...      15.000100       500001.000000\n",
            "\n",
            "[8 rows x 9 columns]\n",
            "<class 'pandas.core.frame.DataFrame'>\n",
            "RangeIndex: 20640 entries, 0 to 20639\n",
            "Data columns (total 10 columns):\n",
            " #   Column              Non-Null Count  Dtype  \n",
            "---  ------              --------------  -----  \n",
            " 0   longitude           20640 non-null  float64\n",
            " 1   latitude            20640 non-null  float64\n",
            " 2   housing_median_age  20640 non-null  int64  \n",
            " 3   total_rooms         20640 non-null  int64  \n",
            " 4   total_bedrooms      20433 non-null  float64\n",
            " 5   population          20640 non-null  int64  \n",
            " 6   households          20640 non-null  int64  \n",
            " 7   median_income       20640 non-null  float64\n",
            " 8   median_house_value  20640 non-null  int64  \n",
            " 9   ocean_proximity     20640 non-null  object \n",
            "dtypes: float64(4), int64(5), object(1)\n",
            "memory usage: 1.6+ MB\n",
            "None\n"
          ],
          "name": "stdout"
        }
      ]
    },
    {
      "cell_type": "code",
      "metadata": {
        "id": "wayNCYaV-c1C",
        "colab_type": "code",
        "colab": {}
      },
      "source": [
        ""
      ],
      "execution_count": null,
      "outputs": []
    }
  ]
}