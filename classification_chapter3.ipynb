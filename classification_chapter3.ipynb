{
  "nbformat": 4,
  "nbformat_minor": 0,
  "metadata": {
    "colab": {
      "name": "classification_chapter3.ipynb",
      "provenance": [],
      "collapsed_sections": [],
      "authorship_tag": "ABX9TyPRy54MqDDG+wjQr5qdY1al",
      "include_colab_link": true
    },
    "kernelspec": {
      "name": "python3",
      "display_name": "Python 3"
    }
  },
  "cells": [
    {
      "cell_type": "markdown",
      "metadata": {
        "id": "view-in-github",
        "colab_type": "text"
      },
      "source": [
        "<a href=\"https://colab.research.google.com/github/tharindatj/HandsOnMachinerLearning/blob/master/classification_chapter3.ipynb\" target=\"_parent\"><img src=\"https://colab.research.google.com/assets/colab-badge.svg\" alt=\"Open In Colab\"/></a>"
      ]
    },
    {
      "cell_type": "markdown",
      "metadata": {
        "id": "9aizL0KiEWWv",
        "colab_type": "text"
      },
      "source": [
        "Importing Liabraris"
      ]
    },
    {
      "cell_type": "code",
      "metadata": {
        "id": "93GKau5SEaVz",
        "colab_type": "code",
        "colab": {}
      },
      "source": [
        "import matplotlib as mpl\n",
        "import matplotlib.pyplot as plt\n",
        "import numpy as np"
      ],
      "execution_count": 1,
      "outputs": []
    },
    {
      "cell_type": "markdown",
      "metadata": {
        "id": "puE8fIXUCFVQ",
        "colab_type": "text"
      },
      "source": [
        "Download the Dataset from MINST"
      ]
    },
    {
      "cell_type": "code",
      "metadata": {
        "id": "6SGjeblCB7bk",
        "colab_type": "code",
        "colab": {
          "base_uri": "https://localhost:8080/",
          "height": 54
        },
        "outputId": "7109dd47-b0a2-4279-bb04-c2ae65107659"
      },
      "source": [
        "from sklearn.datasets import fetch_openml\n",
        "mnist = fetch_openml('mnist_784', version=1)\n",
        "mnist.keys()"
      ],
      "execution_count": 2,
      "outputs": [
        {
          "output_type": "execute_result",
          "data": {
            "text/plain": [
              "dict_keys(['data', 'target', 'frame', 'feature_names', 'target_names', 'DESCR', 'details', 'categories', 'url'])"
            ]
          },
          "metadata": {
            "tags": []
          },
          "execution_count": 2
        }
      ]
    },
    {
      "cell_type": "code",
      "metadata": {
        "id": "BysaSB80DX47",
        "colab_type": "code",
        "colab": {
          "base_uri": "https://localhost:8080/",
          "height": 34
        },
        "outputId": "9a9ed9a1-2d6e-4f0f-f4e9-ac48915376ec"
      },
      "source": [
        "X,y= mnist['data'], mnist['target']\n",
        "X.shape"
      ],
      "execution_count": 3,
      "outputs": [
        {
          "output_type": "execute_result",
          "data": {
            "text/plain": [
              "(70000, 784)"
            ]
          },
          "metadata": {
            "tags": []
          },
          "execution_count": 3
        }
      ]
    },
    {
      "cell_type": "code",
      "metadata": {
        "id": "ccLgze1dELiI",
        "colab_type": "code",
        "colab": {
          "base_uri": "https://localhost:8080/",
          "height": 248
        },
        "outputId": "95d64c30-fdb7-4a1e-c29c-c37b3a0c2b82"
      },
      "source": [
        "some_digit = X[0]\n",
        "some_digit_image = some_digit.reshape(28, 28)\n",
        "plt.imshow(some_digit_image, cmap='binary')\n",
        "plt.axis('off')\n",
        "plt.show()"
      ],
      "execution_count": 4,
      "outputs": [
        {
          "output_type": "display_data",
          "data": {
            "image/png": "[encoded data removed]",
            "text/plain": [
              "<Figure size 432x288 with 1 Axes>"
            ]
          },
          "metadata": {
            "tags": [],
            "needs_background": "light"
          }
        }
      ]
    },
    {
      "cell_type": "code",
      "metadata": {
        "id": "iHJjr916FAuN",
        "colab_type": "code",
        "colab": {
          "base_uri": "https://localhost:8080/",
          "height": 34
        },
        "outputId": "564ebddd-3245-4f5e-f1f4-b8e9695f5e75"
      },
      "source": [
        "y =y.astype(np.uint8)\n",
        "y[0]"
      ],
      "execution_count": 5,
      "outputs": [
        {
          "output_type": "execute_result",
          "data": {
            "text/plain": [
              "5"
            ]
          },
          "metadata": {
            "tags": []
          },
          "execution_count": 5
        }
      ]
    },
    {
      "cell_type": "markdown",
      "metadata": {
        "id": "PfynASE4Gpw0",
        "colab_type": "text"
      },
      "source": [
        "Traning and Test Set"
      ]
    },
    {
      "cell_type": "code",
      "metadata": {
        "id": "HIexJ-BFFOAk",
        "colab_type": "code",
        "colab": {}
      },
      "source": [
        "X_train, X_test, y_train, y_test = X[:60000], X[60000:], y[:60000], y[60000:]"
      ],
      "execution_count": 6,
      "outputs": []
    },
    {
      "cell_type": "markdown",
      "metadata": {
        "id": "MbXDdD7gIppv",
        "colab_type": "text"
      },
      "source": [
        "Training the binary classifier, for 5"
      ]
    },
    {
      "cell_type": "code",
      "metadata": {
        "id": "zjE_SdnZFXRK",
        "colab_type": "code",
        "colab": {}
      },
      "source": [
        "y_train_5 = (y_train==5)\n",
        "y_test_5 = (y_test==5)"
      ],
      "execution_count": 7,
      "outputs": []
    },
    {
      "cell_type": "code",
      "metadata": {
        "id": "qItMOIn2I5bA",
        "colab_type": "code",
        "colab": {
          "base_uri": "https://localhost:8080/",
          "height": 118
        },
        "outputId": "d9547293-3119-4116-c1df-8cbf3814ea7d"
      },
      "source": [
        "from sklearn.linear_model import SGDClassifier\n",
        "sgd_clf = SGDClassifier(random_state=42)\n",
        "sgd_clf.fit(X_train, y_train_5)"
      ],
      "execution_count": 8,
      "outputs": [
        {
          "output_type": "execute_result",
          "data": {
            "text/plain": [
              "SGDClassifier(alpha=0.0001, average=False, class_weight=None,\n",
              "              early_stopping=False, epsilon=0.1, eta0=0.0, fit_intercept=True,\n",
              "              l1_ratio=0.15, learning_rate='optimal', loss='hinge',\n",
              "              max_iter=1000, n_iter_no_change=5, n_jobs=None, penalty='l2',\n",
              "              power_t=0.5, random_state=42, shuffle=True, tol=0.001,\n",
              "              validation_fraction=0.1, verbose=0, warm_start=False)"
            ]
          },
          "metadata": {
            "tags": []
          },
          "execution_count": 8
        }
      ]
    },
    {
      "cell_type": "code",
      "metadata": {
        "id": "2_PLHYFJJphN",
        "colab_type": "code",
        "colab": {
          "base_uri": "https://localhost:8080/",
          "height": 34
        },
        "outputId": "7b702101-9466-48de-d3e4-01a6140b00a7"
      },
      "source": [
        "sgd_clf.predict([some_digit])"
      ],
      "execution_count": 9,
      "outputs": [
        {
          "output_type": "execute_result",
          "data": {
            "text/plain": [
              "array([ True])"
            ]
          },
          "metadata": {
            "tags": []
          },
          "execution_count": 9
        }
      ]
    },
    {
      "cell_type": "markdown",
      "metadata": {
        "id": "iWVzd5QsKDKY",
        "colab_type": "text"
      },
      "source": [
        "Model Evaluation"
      ]
    },
    {
      "cell_type": "markdown",
      "metadata": {
        "id": "01ccMdoSNQc1",
        "colab_type": "text"
      },
      "source": [
        "*Cross Validation Scores* "
      ]
    },
    {
      "cell_type": "code",
      "metadata": {
        "id": "OW4I2HWVJ5_E",
        "colab_type": "code",
        "colab": {
          "base_uri": "https://localhost:8080/",
          "height": 34
        },
        "outputId": "69ec8ea2-479c-4ce6-cfc2-7d4481ed2493"
      },
      "source": [
        "from sklearn.model_selection import cross_val_score\n",
        "cross_val_score(sgd_clf, X_train, y_train_5, cv=3, scoring='accuracy')"
      ],
      "execution_count": 10,
      "outputs": [
        {
          "output_type": "execute_result",
          "data": {
            "text/plain": [
              "array([0.95035, 0.96035, 0.9604 ])"
            ]
          },
          "metadata": {
            "tags": []
          },
          "execution_count": 10
        }
      ]
    },
    {
      "cell_type": "code",
      "metadata": {
        "id": "FzaFfyZ5LPGJ",
        "colab_type": "code",
        "colab": {
          "base_uri": "https://localhost:8080/",
          "height": 34
        },
        "outputId": "201366f8-7443-4bb3-d26b-85bf63d316f3"
      },
      "source": [
        "from sklearn.model_selection import cross_val_predict\n",
        "y_train_pred = cross_val_predict(sgd_clf, X_train, y_train_5, cv=3)\n",
        "y_train_pred"
      ],
      "execution_count": 11,
      "outputs": [
        {
          "output_type": "execute_result",
          "data": {
            "text/plain": [
              "array([ True, False, False, ...,  True, False, False])"
            ]
          },
          "metadata": {
            "tags": []
          },
          "execution_count": 11
        }
      ]
    },
    {
      "cell_type": "markdown",
      "metadata": {
        "id": "5ozatwJ1U5u2",
        "colab_type": "text"
      },
      "source": [
        "*Confusion Matrix*"
      ]
    },
    {
      "cell_type": "code",
      "metadata": {
        "id": "pPhoDSk_OOzT",
        "colab_type": "code",
        "colab": {
          "base_uri": "https://localhost:8080/",
          "height": 50
        },
        "outputId": "823eab0c-3da2-476d-85f2-a665519b6f16"
      },
      "source": [
        "from sklearn.metrics import confusion_matrix\n",
        "confusion_matrix(y_train_5, y_train_pred)"
      ],
      "execution_count": 12,
      "outputs": [
        {
          "output_type": "execute_result",
          "data": {
            "text/plain": [
              "array([[53892,   687],\n",
              "       [ 1891,  3530]])"
            ]
          },
          "metadata": {
            "tags": []
          },
          "execution_count": 12
        }
      ]
    },
    {
      "cell_type": "markdown",
      "metadata": {
        "id": "uBYb5_loU_MZ",
        "colab_type": "text"
      },
      "source": [
        "*Precision and recall scores*"
      ]
    },
    {
      "cell_type": "code",
      "metadata": {
        "id": "_5w8at2UOg8R",
        "colab_type": "code",
        "colab": {
          "base_uri": "https://localhost:8080/",
          "height": 34
        },
        "outputId": "a3177489-be36-45e1-e2b7-45f2ff52b8be"
      },
      "source": [
        "from sklearn.metrics import precision_score, recall_score\n",
        "precision_score(y_train_5, y_train_pred)"
      ],
      "execution_count": 13,
      "outputs": [
        {
          "output_type": "execute_result",
          "data": {
            "text/plain": [
              "0.8370879772350012"
            ]
          },
          "metadata": {
            "tags": []
          },
          "execution_count": 13
        }
      ]
    },
    {
      "cell_type": "code",
      "metadata": {
        "id": "fyewKx1TSS3A",
        "colab_type": "code",
        "colab": {
          "base_uri": "https://localhost:8080/",
          "height": 34
        },
        "outputId": "ff6eedc3-111a-4eb9-9701-7ab423b1ee46"
      },
      "source": [
        "recall_score(y_train_5, y_train_pred)"
      ],
      "execution_count": 14,
      "outputs": [
        {
          "output_type": "execute_result",
          "data": {
            "text/plain": [
              "0.6511713705958311"
            ]
          },
          "metadata": {
            "tags": []
          },
          "execution_count": 14
        }
      ]
    },
    {
      "cell_type": "code",
      "metadata": {
        "id": "FraXigUoSlCd",
        "colab_type": "code",
        "colab": {
          "base_uri": "https://localhost:8080/",
          "height": 34
        },
        "outputId": "57ec2b34-c352-4497-f660-31d4fe50bfc5"
      },
      "source": [
        "from sklearn.metrics import f1_score\n",
        "f1_score(y_train_5, y_train_pred)"
      ],
      "execution_count": 15,
      "outputs": [
        {
          "output_type": "execute_result",
          "data": {
            "text/plain": [
              "0.7325171197343846"
            ]
          },
          "metadata": {
            "tags": []
          },
          "execution_count": 15
        }
      ]
    },
    {
      "cell_type": "markdown",
      "metadata": {
        "id": "grN8TYggVL4w",
        "colab_type": "text"
      },
      "source": [
        "*Checking and Varying Threshols*"
      ]
    },
    {
      "cell_type": "code",
      "metadata": {
        "id": "nrw91BuOT_r6",
        "colab_type": "code",
        "colab": {
          "base_uri": "https://localhost:8080/",
          "height": 34
        },
        "outputId": "9963fa2f-7777-49c4-e2b3-6721215ba814"
      },
      "source": [
        "y_scores = sgd_clf.decision_function([some_digit])\n",
        "y_scores"
      ],
      "execution_count": 16,
      "outputs": [
        {
          "output_type": "execute_result",
          "data": {
            "text/plain": [
              "array([2164.22030239])"
            ]
          },
          "metadata": {
            "tags": []
          },
          "execution_count": 16
        }
      ]
    },
    {
      "cell_type": "code",
      "metadata": {
        "id": "ghj7gL3rXuTY",
        "colab_type": "code",
        "colab": {
          "base_uri": "https://localhost:8080/",
          "height": 34
        },
        "outputId": "5fed2124-25b7-4dc1-9daa-b2bfdf27eca9"
      },
      "source": [
        "threshold = 3000 \n",
        "y_some_digit_pred = y_scores > threshold\n",
        "y_some_digit_pred"
      ],
      "execution_count": 17,
      "outputs": [
        {
          "output_type": "execute_result",
          "data": {
            "text/plain": [
              "array([False])"
            ]
          },
          "metadata": {
            "tags": []
          },
          "execution_count": 17
        }
      ]
    },
    {
      "cell_type": "markdown",
      "metadata": {
        "id": "EPkQy5lkYVPq",
        "colab_type": "text"
      },
      "source": [
        "*Deciding which threshold to use*"
      ]
    },
    {
      "cell_type": "markdown",
      "metadata": {
        "id": "aYN7sDM8YfwP",
        "colab_type": "text"
      },
      "source": [
        "*Precision Recall Curve*"
      ]
    },
    {
      "cell_type": "code",
      "metadata": {
        "id": "Btz8UcXZTiZm",
        "colab_type": "code",
        "colab": {
          "base_uri": "https://localhost:8080/",
          "height": 50
        },
        "outputId": "7cf3207d-201f-41d2-ab3a-9f14937987e3"
      },
      "source": [
        "#by using method=decision function you get the scores for prediciton instead of the predcition\n",
        "y_scores = cross_val_predict(sgd_clf, X_train, y_train_5, cv=3, method='decision_function')\n",
        "y_scores"
      ],
      "execution_count": 18,
      "outputs": [
        {
          "output_type": "execute_result",
          "data": {
            "text/plain": [
              "array([  1200.93051237, -26883.79202424, -33072.03475406, ...,\n",
              "        13272.12718981,  -7258.47203373, -16877.50840447])"
            ]
          },
          "metadata": {
            "tags": []
          },
          "execution_count": 18
        }
      ]
    },
    {
      "cell_type": "code",
      "metadata": {
        "id": "iIda7vOPX6Ou",
        "colab_type": "code",
        "colab": {}
      },
      "source": [
        "from sklearn.metrics import precision_recall_curve\n",
        "precisions, recalls, thresholds = precision_recall_curve(y_train_5, y_scores)"
      ],
      "execution_count": 19,
      "outputs": []
    },
    {
      "cell_type": "code",
      "metadata": {
        "id": "OB_Y_ovtZCTm",
        "colab_type": "code",
        "colab": {
          "base_uri": "https://localhost:8080/",
          "height": 265
        },
        "outputId": "7f4666ea-34f5-4e46-c1e9-0a9dfdbfa480"
      },
      "source": [
        "def plot_precision_recall_vs_threshold(precisions, recalls, thresholds):\n",
        "  plt.plot(thresholds, precisions[:-1], 'b--', label='precisions')\n",
        "  plt.plot(thresholds, recalls[:-1], 'g--', label='Recall')\n",
        "  plt.grid(b=True)\n",
        "\n",
        "plot_precision_recall_vs_threshold(precisions, recalls, thresholds)\n",
        "plt.show()"
      ],
      "execution_count": 20,
      "outputs": [
        {
          "output_type": "display_data",
          "data": {
            "image/png": "[encoded data removed]",
            "text/plain": [
              "<Figure size 432x288 with 1 Axes>"
            ]
          },
          "metadata": {
            "tags": [],
            "needs_background": "light"
          }
        }
      ]
    },
    {
      "cell_type": "code",
      "metadata": {
        "id": "mQhHXyz6d3o1",
        "colab_type": "code",
        "colab": {
          "base_uri": "https://localhost:8080/",
          "height": 265
        },
        "outputId": "bdd89e49-626d-4394-9fec-6ef897bea1be"
      },
      "source": [
        "plt.plot(precisions, recalls)\n",
        "plt.show()"
      ],
      "execution_count": 21,
      "outputs": [
        {
          "output_type": "display_data",
          "data": {
            "image/png": "[encoded data removed]",
            "text/plain": [
              "<Figure size 432x288 with 1 Axes>"
            ]
          },
          "metadata": {
            "tags": [],
            "needs_background": "light"
          }
        }
      ]
    },
    {
      "cell_type": "code",
      "metadata": {
        "id": "lO4XbmH8bTN_",
        "colab_type": "code",
        "colab": {
          "base_uri": "https://localhost:8080/",
          "height": 34
        },
        "outputId": "bce9774d-89db-4ca5-8ec5-bbb14794c080"
      },
      "source": [
        "threshold_90_precision = thresholds[np.argmax(precisions >=0.9)]\n",
        "threshold_90_precision"
      ],
      "execution_count": 22,
      "outputs": [
        {
          "output_type": "execute_result",
          "data": {
            "text/plain": [
              "3370.0194991439557"
            ]
          },
          "metadata": {
            "tags": []
          },
          "execution_count": 22
        }
      ]
    },
    {
      "cell_type": "code",
      "metadata": {
        "id": "EvKKIZCZc8LL",
        "colab_type": "code",
        "colab": {}
      },
      "source": [
        "y_train_pred_90 = (y_scores >= threshold_90_precision)"
      ],
      "execution_count": 23,
      "outputs": []
    },
    {
      "cell_type": "code",
      "metadata": {
        "id": "TIotHFFjdPwC",
        "colab_type": "code",
        "colab": {
          "base_uri": "https://localhost:8080/",
          "height": 34
        },
        "outputId": "3518e8ca-df59-4e17-fbff-31b1bfea3dfd"
      },
      "source": [
        "precision_score(y_train_5, y_train_pred_90)"
      ],
      "execution_count": 24,
      "outputs": [
        {
          "output_type": "execute_result",
          "data": {
            "text/plain": [
              "0.9000345901072293"
            ]
          },
          "metadata": {
            "tags": []
          },
          "execution_count": 24
        }
      ]
    },
    {
      "cell_type": "code",
      "metadata": {
        "id": "AwmzVYCNdXEO",
        "colab_type": "code",
        "colab": {
          "base_uri": "https://localhost:8080/",
          "height": 34
        },
        "outputId": "09d1c7e8-033a-4f49-cb28-1403022993d3"
      },
      "source": [
        "recall_score(y_train_5, y_train_pred_90)"
      ],
      "execution_count": 25,
      "outputs": [
        {
          "output_type": "execute_result",
          "data": {
            "text/plain": [
              "0.4799852425751706"
            ]
          },
          "metadata": {
            "tags": []
          },
          "execution_count": 25
        }
      ]
    },
    {
      "cell_type": "markdown",
      "metadata": {
        "id": "m4Y43YhSd6rq",
        "colab_type": "text"
      },
      "source": [
        "*ROC Curve*"
      ]
    },
    {
      "cell_type": "code",
      "metadata": {
        "id": "7BkuUKcidcWb",
        "colab_type": "code",
        "colab": {
          "base_uri": "https://localhost:8080/",
          "height": 279
        },
        "outputId": "13c99d05-0d84-4409-bb79-f1514fd6b3df"
      },
      "source": [
        "from sklearn.metrics import roc_curve\n",
        "fpr, tpr, thresholds = roc_curve(y_train_5, y_scores)\n",
        "\n",
        "def plot_roc_curve(fpr, tpr, label=None):\n",
        "  plt.plot(fpr, tpr, linewidth=2, label=label)\n",
        "  plt.plot([0,1], [0,1], 'k--')\n",
        "  plt.grid(b=True)\n",
        "  plt.xlabel(\"False Positive Rate\")\n",
        "  plt.ylabel('Recall')\n",
        "  [...]\n",
        "\n",
        "plot_roc_curve(fpr, tpr)\n",
        "plt.show()"
      ],
      "execution_count": 26,
      "outputs": [
        {
          "output_type": "display_data",
          "data": {
            "image/png": "[encoded data removed]",
            "text/plain": [
              "<Figure size 432x288 with 1 Axes>"
            ]
          },
          "metadata": {
            "tags": [],
            "needs_background": "light"
          }
        }
      ]
    },
    {
      "cell_type": "markdown",
      "metadata": {
        "id": "-7FP1orBz16F",
        "colab_type": "text"
      },
      "source": [
        "*Measuring the area under the curve*"
      ]
    },
    {
      "cell_type": "code",
      "metadata": {
        "id": "z3ytlJwBwVnr",
        "colab_type": "code",
        "colab": {
          "base_uri": "https://localhost:8080/",
          "height": 34
        },
        "outputId": "e65717e5-ddad-4bf1-8c9b-7173b5ff739b"
      },
      "source": [
        "#ROC score closer to 1 the more accurate the classifier\n",
        "from sklearn.metrics import roc_auc_score\n",
        "roc_auc_score(y_train_5, y_scores)"
      ],
      "execution_count": 27,
      "outputs": [
        {
          "output_type": "execute_result",
          "data": {
            "text/plain": [
              "0.9604938554008616"
            ]
          },
          "metadata": {
            "tags": []
          },
          "execution_count": 27
        }
      ]
    },
    {
      "cell_type": "code",
      "metadata": {
        "id": "rP5XD1ut0MUx",
        "colab_type": "code",
        "colab": {
          "base_uri": "https://localhost:8080/",
          "height": 50
        },
        "outputId": "8863a932-a1de-4deb-b52f-463d0dcb3a8d"
      },
      "source": [
        "y_scores"
      ],
      "execution_count": 28,
      "outputs": [
        {
          "output_type": "execute_result",
          "data": {
            "text/plain": [
              "array([  1200.93051237, -26883.79202424, -33072.03475406, ...,\n",
              "        13272.12718981,  -7258.47203373, -16877.50840447])"
            ]
          },
          "metadata": {
            "tags": []
          },
          "execution_count": 28
        }
      ]
    },
    {
      "cell_type": "markdown",
      "metadata": {
        "id": "oJGVAeXH4Z_k",
        "colab_type": "text"
      },
      "source": [
        "Training a RandomForestClassifier"
      ]
    },
    {
      "cell_type": "code",
      "metadata": {
        "id": "krwrNTki2b9O",
        "colab_type": "code",
        "colab": {
          "base_uri": "https://localhost:8080/",
          "height": 134
        },
        "outputId": "97bbd675-ca28-4000-fd8d-c54ae91023d8"
      },
      "source": [
        "from sklearn.ensemble import RandomForestClassifier\n",
        "forest_clf = RandomForestClassifier(random_state=42)\n",
        "y_probas_forest = cross_val_predict(forest_clf, X_train, y_train_5, cv=3,\n",
        "                                    method='predict_proba')\n",
        "y_probas_forest"
      ],
      "execution_count": 29,
      "outputs": [
        {
          "output_type": "execute_result",
          "data": {
            "text/plain": [
              "array([[0.11, 0.89],\n",
              "       [0.99, 0.01],\n",
              "       [0.96, 0.04],\n",
              "       ...,\n",
              "       [0.02, 0.98],\n",
              "       [0.92, 0.08],\n",
              "       [0.94, 0.06]])"
            ]
          },
          "metadata": {
            "tags": []
          },
          "execution_count": 29
        }
      ]
    },
    {
      "cell_type": "markdown",
      "metadata": {
        "id": "fQz2fojj6C1w",
        "colab_type": "text"
      },
      "source": [
        "ROC curve for RandomForestClassifier"
      ]
    },
    {
      "cell_type": "code",
      "metadata": {
        "id": "c7kAMLOu55qK",
        "colab_type": "code",
        "colab": {}
      },
      "source": [
        "y_scores_forest = y_probas_forest[:, 1]\n",
        "fpr_forest, tpr_forest, thresholds_forest = roc_curve(y_train_5, y_scores_forest)"
      ],
      "execution_count": 30,
      "outputs": []
    },
    {
      "cell_type": "code",
      "metadata": {
        "id": "VvyDDOTZ66Gm",
        "colab_type": "code",
        "colab": {
          "base_uri": "https://localhost:8080/",
          "height": 279
        },
        "outputId": "34dcad34-1411-4e8a-a3f3-e670e88dc1b9"
      },
      "source": [
        "plt.plot(fpr, tpr, label='SGD')\n",
        "plot_roc_curve(fpr_forest, tpr_forest, \"Random Forest\")\n",
        "plt.legend(loc='lower right')\n",
        "plt.show()"
      ],
      "execution_count": 31,
      "outputs": [
        {
          "output_type": "display_data",
          "data": {
            "image/png": "[encoded data removed]",
            "text/plain": [
              "<Figure size 432x288 with 1 Axes>"
            ]
          },
          "metadata": {
            "tags": [],
            "needs_background": "light"
          }
        }
      ]
    },
    {
      "cell_type": "code",
      "metadata": {
        "id": "2m81EUDM7i3Z",
        "colab_type": "code",
        "colab": {
          "base_uri": "https://localhost:8080/",
          "height": 34
        },
        "outputId": "9d65085a-6815-444a-83ca-2317a7c62a15"
      },
      "source": [
        "roc_auc_score(y_train_5, y_scores_forest)"
      ],
      "execution_count": 32,
      "outputs": [
        {
          "output_type": "execute_result",
          "data": {
            "text/plain": [
              "0.9983436731328145"
            ]
          },
          "metadata": {
            "tags": []
          },
          "execution_count": 32
        }
      ]
    },
    {
      "cell_type": "code",
      "metadata": {
        "id": "2mp1Kndb8T-z",
        "colab_type": "code",
        "colab": {
          "base_uri": "https://localhost:8080/",
          "height": 34
        },
        "outputId": "ee54fde1-0508-4550-ae75-914648ddb810"
      },
      "source": [
        "y_pred_rf = cross_val_predict(forest_clf, X_train, y_train_5, cv=3)\n",
        "# forest_clf.fit(X_train, y_train_5)\n",
        "# y_pred_rf = forest_clf.predict(X_train)\n",
        "precision_score(y_train_5, y_pred_rf)"
      ],
      "execution_count": 33,
      "outputs": [
        {
          "output_type": "execute_result",
          "data": {
            "text/plain": [
              "0.9905083315756169"
            ]
          },
          "metadata": {
            "tags": []
          },
          "execution_count": 33
        }
      ]
    },
    {
      "cell_type": "code",
      "metadata": {
        "id": "nMrEohbBBgn1",
        "colab_type": "code",
        "colab": {
          "base_uri": "https://localhost:8080/",
          "height": 34
        },
        "outputId": "e2e24bde-aaf5-43c2-ac1d-e8aa327dc5f5"
      },
      "source": [
        "recall_score(y_train_5, y_pred_rf)"
      ],
      "execution_count": 34,
      "outputs": [
        {
          "output_type": "execute_result",
          "data": {
            "text/plain": [
              "0.8662608374838591"
            ]
          },
          "metadata": {
            "tags": []
          },
          "execution_count": 34
        }
      ]
    },
    {
      "cell_type": "markdown",
      "metadata": {
        "id": "E03oBhlK2ym6",
        "colab_type": "text"
      },
      "source": [
        "My Structure for Evaluation"
      ]
    },
    {
      "cell_type": "markdown",
      "metadata": {
        "id": "Ei0KHXqI2yS1",
        "colab_type": "text"
      },
      "source": [
        "Import Models"
      ]
    },
    {
      "cell_type": "code",
      "metadata": {
        "id": "KAwA0hv0B8R9",
        "colab_type": "code",
        "colab": {}
      },
      "source": [
        "from sklearn.linear_model import SGDClassifier\n",
        "from sklearn.ensemble import RandomForestClassifier\n",
        "\n",
        "SGD_classifier = SGDClassifier()\n",
        "RF_classifier = RandomForestClassifier()"
      ],
      "execution_count": 35,
      "outputs": []
    },
    {
      "cell_type": "markdown",
      "metadata": {
        "id": "PQ38g8ak3n3r",
        "colab_type": "text"
      },
      "source": [
        "Cross validation predictions for the models"
      ]
    },
    {
      "cell_type": "code",
      "metadata": {
        "id": "WaDxbQOh3rm-",
        "colab_type": "code",
        "colab": {}
      },
      "source": [
        "from sklearn.model_selection import cross_val_predict\n",
        "\n",
        "y_pred_SGD = cross_val_predict(SGD_classifier, X_train, y_train_5, cv=3)\n",
        "y_pred_RF = cross_val_predict(RF_classifier,X_train, y_train_5, cv=3)"
      ],
      "execution_count": 36,
      "outputs": []
    },
    {
      "cell_type": "markdown",
      "metadata": {
        "id": "jNaprTPs5D92",
        "colab_type": "text"
      },
      "source": [
        "Calculating Precision, recall and F1 scores"
      ]
    },
    {
      "cell_type": "code",
      "metadata": {
        "id": "vKQyEbzJ4G5q",
        "colab_type": "code",
        "colab": {
          "base_uri": "https://localhost:8080/",
          "height": 67
        },
        "outputId": "cd1a6d64-2bf8-4b16-86df-85b1c2bc9c72"
      },
      "source": [
        "from sklearn.metrics import precision_score\n",
        "from sklearn.metrics import recall_score\n",
        "from sklearn.metrics import f1_score\n",
        "\n",
        "#precision scores\n",
        "precision_score_SGD = precision_score(y_train_5,y_pred_SGD)\n",
        "precision_score_RF = precision_score(y_train_5,y_pred_RF)\n",
        "\n",
        "#recall scores\n",
        "recall_score_SGD = recall_score(y_train_5,y_pred_SGD)\n",
        "recall_score_RF = recall_score(y_train_5,y_pred_RF)\n",
        "\n",
        "#F1 scores\n",
        "f1_score_SGD = f1_score(y_train_5,y_pred_SGD)\n",
        "f1_score_RF = f1_score(y_train_5,y_pred_RF)\n",
        "\n",
        "print(f'Precision score for SGD: {precision_score_SGD}, RF: {precision_score_RF}')\n",
        "print(f'Recall score for SGD:    {recall_score_SGD}, RF: {recall_score_RF}')\n",
        "print(f'f1 score for SGD:        {f1_score_SGD}, RF: {f1_score_RF}')"
      ],
      "execution_count": 37,
      "outputs": [
        {
          "output_type": "stream",
          "text": [
            "Precision score for SGD: 0.791250680704302, RF: 0.9902768970619319\n",
            "Recall score for SGD:    0.8040951853901495, RF: 0.864231691569821\n",
            "f1 score for SGD:        0.7976212259835316, RF: 0.9229708431836091\n"
          ],
          "name": "stdout"
        }
      ]
    },
    {
      "cell_type": "markdown",
      "metadata": {
        "id": "2ZSNqwT9BVKE",
        "colab_type": "text"
      },
      "source": [
        "Ploting PRC Curves and ROC Curves for the models"
      ]
    },
    {
      "cell_type": "code",
      "metadata": {
        "id": "c66qmTs9A6HQ",
        "colab_type": "code",
        "colab": {}
      },
      "source": [
        "# Importing the cureves\n",
        "from sklearn.metrics import plot_precision_recall_curve\n",
        "from sklearn.metrics import plot_roc_curve\n",
        "\n",
        "# get prediction scores for the models\n",
        "y_scores_SGD = cross_val_predict(SGD_classifier, X_train, y_train_5, method='decision_function', cv=3 )\n",
        "RF_probability = cross_val_predict(RF_classifier, X_train, y_train_5, method='predict_proba', cv=3 )\n",
        "y_scores_RF = RF_probability[:, 1]"
      ],
      "execution_count": 38,
      "outputs": []
    },
    {
      "cell_type": "code",
      "metadata": {
        "id": "6AGMZ4_HDPrO",
        "colab_type": "code",
        "colab": {}
      },
      "source": [
        "# get metrics from curves\n",
        "# PRC Curve\n",
        "precision_SGD, recall_SGD, threshold_SGD = precision_recall_curve(y_train_5, y_scores_SGD)\n",
        "precision_RF, recall_RF, threshold_RF = precision_recall_curve(y_train_5, y_scores_RF)\n",
        "\n",
        "#ROC Curve\n",
        "fpr_SGD, recall_ROC_SGD, threshold_SGD = roc_curve(y_train_5, y_scores_SGD)\n",
        "fpr_RF, recall_ROC_RF, threshold_RF = roc_curve(y_train_5, y_scores_RF)"
      ],
      "execution_count": 39,
      "outputs": []
    },
    {
      "cell_type": "code",
      "metadata": {
        "id": "1z3L2WcTIzQE",
        "colab_type": "code",
        "colab": {
          "base_uri": "https://localhost:8080/",
          "height": 295
        },
        "outputId": "5bf9a2ed-7de8-432c-ebca-4bb37d343dea"
      },
      "source": [
        "#plotting the curves\n",
        "#plotting the PRC curve\n",
        "plt.title('PRC Curve - SGD vs RandomForest')\n",
        "plt.plot(recall_SGD, precision_SGD, label='SGD')\n",
        "plt.plot(recall_RF, precision_RF, label='RandomForest')\n",
        "plt.legend(loc='lower left')\n",
        "plt.xlabel('Recall')\n",
        "plt.ylabel('Precision')\n",
        "plt.grid(b=True)\n",
        "plt.show()"
      ],
      "execution_count": 40,
      "outputs": [
        {
          "output_type": "display_data",
          "data": {
            "image/png": "[encoded data removed]",
            "text/plain": [
              "<Figure size 432x288 with 1 Axes>"
            ]
          },
          "metadata": {
            "tags": [],
            "needs_background": "light"
          }
        }
      ]
    },
    {
      "cell_type": "code",
      "metadata": {
        "id": "QuHzxfRQJ0D9",
        "colab_type": "code",
        "colab": {
          "base_uri": "https://localhost:8080/",
          "height": 295
        },
        "outputId": "7792e8e8-e70c-451c-e628-85f188c667a3"
      },
      "source": [
        "#plotting the ROC Curve\n",
        "plt.title('ROC Curve- SGD vs RandomForest')\n",
        "plt.plot(fpr_SGD, recall_ROC_SGD, label='SGD')\n",
        "plt.plot(fpr_RF, recall_ROC_RF, label='Random Forest')\n",
        "plt.plot([0,1],[0,1], 'k--')\n",
        "plt.legend(loc='lower right')\n",
        "plt.xlabel('False Positive')\n",
        "plt.ylabel('Recall')\n",
        "plt.grid(b=True)\n",
        "plt.show()"
      ],
      "execution_count": 41,
      "outputs": [
        {
          "output_type": "display_data",
          "data": {
            "image/png": "[encoded data removed]",
            "text/plain": [
              "<Figure size 432x288 with 1 Axes>"
            ]
          },
          "metadata": {
            "tags": [],
            "needs_background": "light"
          }
        }
      ]
    },
    {
      "cell_type": "markdown",
      "metadata": {
        "id": "enMJykAG9ljp",
        "colab_type": "text"
      },
      "source": [
        "Error Analysis"
      ]
    },
    {
      "cell_type": "code",
      "metadata": {
        "id": "kgOnW04eM_Yx",
        "colab_type": "code",
        "colab": {}
      },
      "source": [
        "from sklearn.preprocessing import StandardScaler\n",
        "scaler = StandardScaler()\n",
        "X_train_scaled = scaler.fit_transform(X_train.astype(np.float64))"
      ],
      "execution_count": 43,
      "outputs": []
    },
    {
      "cell_type": "code",
      "metadata": {
        "id": "AaPtjXHl98gm",
        "colab_type": "code",
        "colab": {
          "base_uri": "https://localhost:8080/",
          "height": 118
        },
        "outputId": "e91bb4b7-9ac9-460b-cf77-bb3ce46a885c"
      },
      "source": [
        "#retrain SGD Classifier for multiclass model\n",
        "SGD_classifier.fit(X_train_scaled, y_train)"
      ],
      "execution_count": 45,
      "outputs": [
        {
          "output_type": "execute_result",
          "data": {
            "text/plain": [
              "SGDClassifier(alpha=0.0001, average=False, class_weight=None,\n",
              "              early_stopping=False, epsilon=0.1, eta0=0.0, fit_intercept=True,\n",
              "              l1_ratio=0.15, learning_rate='optimal', loss='hinge',\n",
              "              max_iter=1000, n_iter_no_change=5, n_jobs=None, penalty='l2',\n",
              "              power_t=0.5, random_state=None, shuffle=True, tol=0.001,\n",
              "              validation_fraction=0.1, verbose=0, warm_start=False)"
            ]
          },
          "metadata": {
            "tags": []
          },
          "execution_count": 45
        }
      ]
    },
    {
      "cell_type": "code",
      "metadata": {
        "id": "6dk6QtTX-_7J",
        "colab_type": "code",
        "colab": {
          "base_uri": "https://localhost:8080/",
          "height": 238
        },
        "outputId": "abed186a-33b4-491c-9cde-354308e083ff"
      },
      "source": [
        "y_train_pred = cross_val_predict(SGD_classifier, X_train_scales, y_train, cv=3)"
      ],
      "execution_count": 63,
      "outputs": [
        {
          "output_type": "stream",
          "text": [
            "/usr/local/lib/python3.6/dist-packages/sklearn/linear_model/_stochastic_gradient.py:557: ConvergenceWarning: Maximum number of iteration reached before convergence. Consider increasing max_iter to improve the fit.\n",
            "  ConvergenceWarning)\n"
          ],
          "name": "stderr"
        },
        {
          "output_type": "execute_result",
          "data": {
            "text/plain": [
              "array([[5576,    0,   22,    6,    8,   42,   35,    6,  227,    1],\n",
              "       [   0, 6400,   37,   25,    4,   43,    4,    8,  209,   12],\n",
              "       [  27,   26, 5233,   97,   72,   25,   70,   38,  361,    9],\n",
              "       [  23,   18,  117, 5243,    2,  200,   26,   41,  389,   72],\n",
              "       [  11,   14,   46,   11, 5204,   11,   35,   24,  322,  164],\n",
              "       [  27,   15,   30,  172,   52, 4433,   78,   14,  535,   65],\n",
              "       [  30,   16,   43,    3,   41,   96, 5559,    3,  126,    1],\n",
              "       [  20,   10,   52,   29,   50,   12,    3, 5704,  175,  210],\n",
              "       [  17,   62,   46,   91,    3,  123,   24,   11, 5431,   43],\n",
              "       [  22,   18,   30,   65,  120,   33,    1,  178,  366, 5116]])"
            ]
          },
          "metadata": {
            "tags": []
          },
          "execution_count": 63
        }
      ]
    },
    {
      "cell_type": "code",
      "metadata": {
        "id": "80W078uBBUO2",
        "colab_type": "code",
        "colab": {
          "base_uri": "https://localhost:8080/",
          "height": 275
        },
        "outputId": "09a804e2-8f16-4774-f053-079da67d6579"
      },
      "source": [
        "conf_mx = confusion_matrix(y_train, y_train_pred)\n",
        "np.fill_diagonal(conf_mx, 0)\n",
        "plt.matshow(conf_mx, cmap=plt.cm.gray)\n",
        "plt.show()"
      ],
      "execution_count": 69,
      "outputs": [
        {
          "output_type": "display_data",
          "data": {
            "image/png": "[encoded data removed]",
            "text/plain": [
              "<Figure size 288x288 with 1 Axes>"
            ]
          },
          "metadata": {
            "tags": [],
            "needs_background": "light"
          }
        }
      ]
    },
    {
      "cell_type": "code",
      "metadata": {
        "id": "n4jvhFybE6Nz",
        "colab_type": "code",
        "colab": {
          "base_uri": "https://localhost:8080/",
          "height": 292
        },
        "outputId": "d0630af6-670f-4bd2-b47d-badd721120c6"
      },
      "source": [
        "conf_mx=confusion_matrix(y_train, y_train_pred, normalize='pred')\n",
        "np.fill_diagonal(conf_mx, 0)\n",
        "plt.matshow(conf_mx, cmap=plt.cm.gray)\n"
      ],
      "execution_count": 67,
      "outputs": [
        {
          "output_type": "execute_result",
          "data": {
            "text/plain": [
              "<matplotlib.image.AxesImage at 0x7f51ebf72f60>"
            ]
          },
          "metadata": {
            "tags": []
          },
          "execution_count": 67
        },
        {
          "output_type": "display_data",
          "data": {
            "image/png": "[encoded data removed]",
            "text/plain": [
              "<Figure size 288x288 with 1 Axes>"
            ]
          },
          "metadata": {
            "tags": [],
            "needs_background": "light"
          }
        }
      ]
    },
    {
      "cell_type": "code",
      "metadata": {
        "id": "EX88614nFX-I",
        "colab_type": "code",
        "colab": {}
      },
      "source": [
        ""
      ],
      "execution_count": null,
      "outputs": []
    }
  ]
}