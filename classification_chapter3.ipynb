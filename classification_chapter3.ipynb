{
  "nbformat": 4,
  "nbformat_minor": 0,
  "metadata": {
    "colab": {
      "name": "classification_chapter3.ipynb",
      "provenance": [],
      "collapsed_sections": [],
      "authorship_tag": "ABX9TyNgiAXtmgoAhc36cBrWvTXc",
      "include_colab_link": true
    },
    "kernelspec": {
      "name": "python3",
      "display_name": "Python 3"
    }
  },
  "cells": [
    {
      "cell_type": "markdown",
      "metadata": {
        "id": "view-in-github",
        "colab_type": "text"
      },
      "source": [
        "<a href=\"https://colab.research.google.com/github/tharindatj/HandsOnMachinerLearning/blob/master/classification_chapter3.ipynb\" target=\"_parent\"><img src=\"https://colab.research.google.com/assets/colab-badge.svg\" alt=\"Open In Colab\"/></a>"
      ]
    },
    {
      "cell_type": "markdown",
      "metadata": {
        "id": "9aizL0KiEWWv",
        "colab_type": "text"
      },
      "source": [
        "Importing Liabraris"
      ]
    },
    {
      "cell_type": "code",
      "metadata": {
        "id": "93GKau5SEaVz",
        "colab_type": "code",
        "colab": {}
      },
      "source": [
        "import matplotlib as mpl\n",
        "import matplotlib.pyplot as plt\n",
        "import numpy as np"
      ],
      "execution_count": 1,
      "outputs": []
    },
    {
      "cell_type": "markdown",
      "metadata": {
        "id": "puE8fIXUCFVQ",
        "colab_type": "text"
      },
      "source": [
        "Download the Dataset from MINST"
      ]
    },
    {
      "cell_type": "code",
      "metadata": {
        "id": "6SGjeblCB7bk",
        "colab_type": "code",
        "colab": {
          "base_uri": "https://localhost:8080/",
          "height": 34
        },
        "outputId": "194af9e9-c01b-4310-a86d-5b6906331df7"
      },
      "source": [
        "from sklearn.datasets import fetch_openml\n",
        "mnist = fetch_openml('mnist_784', version=1)\n",
        "mnist.keys()"
      ],
      "execution_count": 2,
      "outputs": [
        {
          "output_type": "execute_result",
          "data": {
            "text/plain": [
              "dict_keys(['data', 'target', 'frame', 'feature_names', 'target_names', 'DESCR', 'details', 'categories', 'url'])"
            ]
          },
          "metadata": {
            "tags": []
          },
          "execution_count": 2
        }
      ]
    },
    {
      "cell_type": "code",
      "metadata": {
        "id": "BysaSB80DX47",
        "colab_type": "code",
        "colab": {
          "base_uri": "https://localhost:8080/",
          "height": 34
        },
        "outputId": "02ded632-03d2-4ad9-ec1b-f2cac963d00c"
      },
      "source": [
        "X,y= mnist['data'], mnist['target']\n",
        "X.shape"
      ],
      "execution_count": 3,
      "outputs": [
        {
          "output_type": "execute_result",
          "data": {
            "text/plain": [
              "(70000, 784)"
            ]
          },
          "metadata": {
            "tags": []
          },
          "execution_count": 3
        }
      ]
    },
    {
      "cell_type": "code",
      "metadata": {
        "id": "ccLgze1dELiI",
        "colab_type": "code",
        "colab": {
          "base_uri": "https://localhost:8080/",
          "height": 248
        },
        "outputId": "3a1e7745-ff15-45a3-9c77-a208352fd45c"
      },
      "source": [
        "some_digit = X[0]\n",
        "some_digit_image = some_digit.reshape(28, 28)\n",
        "plt.imshow(some_digit_image, cmap='binary')\n",
        "plt.axis('off')\n",
        "plt.show()"
      ],
      "execution_count": 4,
      "outputs": [
        {
          "output_type": "display_data",
          "data": {
            "image/png": "[encoded data removed]",
            "text/plain": [
              "<Figure size 432x288 with 1 Axes>"
            ]
          },
          "metadata": {
            "tags": [],
            "needs_background": "light"
          }
        }
      ]
    },
    {
      "cell_type": "code",
      "metadata": {
        "id": "iHJjr916FAuN",
        "colab_type": "code",
        "colab": {
          "base_uri": "https://localhost:8080/",
          "height": 34
        },
        "outputId": "ed7a61ad-59b1-4274-ecef-36a5645160d2"
      },
      "source": [
        "y =y.astype(np.uint8)\n",
        "y[0]"
      ],
      "execution_count": 5,
      "outputs": [
        {
          "output_type": "execute_result",
          "data": {
            "text/plain": [
              "5"
            ]
          },
          "metadata": {
            "tags": []
          },
          "execution_count": 5
        }
      ]
    },
    {
      "cell_type": "markdown",
      "metadata": {
        "id": "PfynASE4Gpw0",
        "colab_type": "text"
      },
      "source": [
        "Traning and Test Set"
      ]
    },
    {
      "cell_type": "code",
      "metadata": {
        "id": "HIexJ-BFFOAk",
        "colab_type": "code",
        "colab": {}
      },
      "source": [
        "X_train, X_test, y_train, y_test = X[:60000], X[60000:], y[:60000], y[60000:]"
      ],
      "execution_count": 6,
      "outputs": []
    },
    {
      "cell_type": "markdown",
      "metadata": {
        "id": "MbXDdD7gIppv",
        "colab_type": "text"
      },
      "source": [
        "Training the binary classifier, for 5"
      ]
    },
    {
      "cell_type": "code",
      "metadata": {
        "id": "zjE_SdnZFXRK",
        "colab_type": "code",
        "colab": {}
      },
      "source": [
        "y_train_5 = (y_train==5)\n",
        "y_test_5 = (y_test==5)"
      ],
      "execution_count": 7,
      "outputs": []
    },
    {
      "cell_type": "code",
      "metadata": {
        "id": "qItMOIn2I5bA",
        "colab_type": "code",
        "colab": {
          "base_uri": "https://localhost:8080/",
          "height": 118
        },
        "outputId": "77b978ec-8546-43ae-f52d-2228352312a7"
      },
      "source": [
        "from sklearn.linear_model import SGDClassifier\n",
        "sgd_clf = SGDClassifier(random_state=42)\n",
        "sgd_clf.fit(X_train, y_train_5)"
      ],
      "execution_count": 8,
      "outputs": [
        {
          "output_type": "execute_result",
          "data": {
            "text/plain": [
              "SGDClassifier(alpha=0.0001, average=False, class_weight=None,\n",
              "              early_stopping=False, epsilon=0.1, eta0=0.0, fit_intercept=True,\n",
              "              l1_ratio=0.15, learning_rate='optimal', loss='hinge',\n",
              "              max_iter=1000, n_iter_no_change=5, n_jobs=None, penalty='l2',\n",
              "              power_t=0.5, random_state=42, shuffle=True, tol=0.001,\n",
              "              validation_fraction=0.1, verbose=0, warm_start=False)"
            ]
          },
          "metadata": {
            "tags": []
          },
          "execution_count": 8
        }
      ]
    },
    {
      "cell_type": "code",
      "metadata": {
        "id": "2_PLHYFJJphN",
        "colab_type": "code",
        "colab": {
          "base_uri": "https://localhost:8080/",
          "height": 34
        },
        "outputId": "6ff14eb2-be97-4cf4-a9e9-e4d1eae08d6c"
      },
      "source": [
        "sgd_clf.predict([some_digit])"
      ],
      "execution_count": 9,
      "outputs": [
        {
          "output_type": "execute_result",
          "data": {
            "text/plain": [
              "array([ True])"
            ]
          },
          "metadata": {
            "tags": []
          },
          "execution_count": 9
        }
      ]
    },
    {
      "cell_type": "markdown",
      "metadata": {
        "id": "iWVzd5QsKDKY",
        "colab_type": "text"
      },
      "source": [
        "Model Evaluation"
      ]
    },
    {
      "cell_type": "markdown",
      "metadata": {
        "id": "01ccMdoSNQc1",
        "colab_type": "text"
      },
      "source": [
        "*Cross Validation Scores* "
      ]
    },
    {
      "cell_type": "code",
      "metadata": {
        "id": "OW4I2HWVJ5_E",
        "colab_type": "code",
        "colab": {
          "base_uri": "https://localhost:8080/",
          "height": 34
        },
        "outputId": "124f1766-9a09-4e21-b078-3dd8a246b834"
      },
      "source": [
        "from sklearn.model_selection import cross_val_score\n",
        "cross_val_score(sgd_clf, X_train, y_train_5, cv=3, scoring='accuracy')"
      ],
      "execution_count": 10,
      "outputs": [
        {
          "output_type": "execute_result",
          "data": {
            "text/plain": [
              "array([0.95035, 0.96035, 0.9604 ])"
            ]
          },
          "metadata": {
            "tags": []
          },
          "execution_count": 10
        }
      ]
    },
    {
      "cell_type": "code",
      "metadata": {
        "id": "FzaFfyZ5LPGJ",
        "colab_type": "code",
        "colab": {
          "base_uri": "https://localhost:8080/",
          "height": 34
        },
        "outputId": "e1f5685e-eb96-4b62-c754-19c93c2d208c"
      },
      "source": [
        "from sklearn.model_selection import cross_val_predict\n",
        "y_train_pred = cross_val_predict(sgd_clf, X_train, y_train_5, cv=3)\n",
        "y_train_pred"
      ],
      "execution_count": 11,
      "outputs": [
        {
          "output_type": "execute_result",
          "data": {
            "text/plain": [
              "array([ True, False, False, ...,  True, False, False])"
            ]
          },
          "metadata": {
            "tags": []
          },
          "execution_count": 11
        }
      ]
    },
    {
      "cell_type": "markdown",
      "metadata": {
        "id": "5ozatwJ1U5u2",
        "colab_type": "text"
      },
      "source": [
        "*Confusion Matrix*"
      ]
    },
    {
      "cell_type": "code",
      "metadata": {
        "id": "pPhoDSk_OOzT",
        "colab_type": "code",
        "colab": {
          "base_uri": "https://localhost:8080/",
          "height": 50
        },
        "outputId": "02a5bc34-173c-4e1f-972c-8113036915cf"
      },
      "source": [
        "from sklearn.metrics import confusion_matrix\n",
        "confusion_matrix(y_train_5, y_train_pred)"
      ],
      "execution_count": 12,
      "outputs": [
        {
          "output_type": "execute_result",
          "data": {
            "text/plain": [
              "array([[53892,   687],\n",
              "       [ 1891,  3530]])"
            ]
          },
          "metadata": {
            "tags": []
          },
          "execution_count": 12
        }
      ]
    },
    {
      "cell_type": "markdown",
      "metadata": {
        "id": "uBYb5_loU_MZ",
        "colab_type": "text"
      },
      "source": [
        "*Precision and recall scores*"
      ]
    },
    {
      "cell_type": "code",
      "metadata": {
        "id": "_5w8at2UOg8R",
        "colab_type": "code",
        "colab": {
          "base_uri": "https://localhost:8080/",
          "height": 34
        },
        "outputId": "0eb472c9-c8c8-4d31-f690-bf89e0a64e5c"
      },
      "source": [
        "from sklearn.metrics import precision_score, recall_score\n",
        "precision_score(y_train_5, y_train_pred)"
      ],
      "execution_count": 13,
      "outputs": [
        {
          "output_type": "execute_result",
          "data": {
            "text/plain": [
              "0.8370879772350012"
            ]
          },
          "metadata": {
            "tags": []
          },
          "execution_count": 13
        }
      ]
    },
    {
      "cell_type": "code",
      "metadata": {
        "id": "fyewKx1TSS3A",
        "colab_type": "code",
        "colab": {
          "base_uri": "https://localhost:8080/",
          "height": 34
        },
        "outputId": "1d124087-5902-498d-a927-a0b38578bba8"
      },
      "source": [
        "recall_score(y_train_5, y_train_pred)"
      ],
      "execution_count": 14,
      "outputs": [
        {
          "output_type": "execute_result",
          "data": {
            "text/plain": [
              "0.6511713705958311"
            ]
          },
          "metadata": {
            "tags": []
          },
          "execution_count": 14
        }
      ]
    },
    {
      "cell_type": "code",
      "metadata": {
        "id": "FraXigUoSlCd",
        "colab_type": "code",
        "colab": {
          "base_uri": "https://localhost:8080/",
          "height": 34
        },
        "outputId": "1de8f04c-74f7-43e0-80ec-d6da557a8124"
      },
      "source": [
        "from sklearn.metrics import f1_score\n",
        "f1_score(y_train_5, y_train_pred)"
      ],
      "execution_count": 15,
      "outputs": [
        {
          "output_type": "execute_result",
          "data": {
            "text/plain": [
              "0.7325171197343846"
            ]
          },
          "metadata": {
            "tags": []
          },
          "execution_count": 15
        }
      ]
    },
    {
      "cell_type": "markdown",
      "metadata": {
        "id": "grN8TYggVL4w",
        "colab_type": "text"
      },
      "source": [
        "*Checking and Varying Threshols*"
      ]
    },
    {
      "cell_type": "code",
      "metadata": {
        "id": "nrw91BuOT_r6",
        "colab_type": "code",
        "colab": {
          "base_uri": "https://localhost:8080/",
          "height": 34
        },
        "outputId": "7e5c2490-b3b2-4aa7-b725-e4957cc160fc"
      },
      "source": [
        "y_scores = sgd_clf.decision_function([some_digit])\n",
        "y_scores"
      ],
      "execution_count": 16,
      "outputs": [
        {
          "output_type": "execute_result",
          "data": {
            "text/plain": [
              "array([2164.22030239])"
            ]
          },
          "metadata": {
            "tags": []
          },
          "execution_count": 16
        }
      ]
    },
    {
      "cell_type": "code",
      "metadata": {
        "id": "ghj7gL3rXuTY",
        "colab_type": "code",
        "colab": {
          "base_uri": "https://localhost:8080/",
          "height": 34
        },
        "outputId": "ddc1b273-668a-4567-b1a2-f1e27cf00306"
      },
      "source": [
        "threshold = 3000 \n",
        "y_some_digit_pred = y_scores > threshold\n",
        "y_some_digit_pred"
      ],
      "execution_count": 17,
      "outputs": [
        {
          "output_type": "execute_result",
          "data": {
            "text/plain": [
              "array([False])"
            ]
          },
          "metadata": {
            "tags": []
          },
          "execution_count": 17
        }
      ]
    },
    {
      "cell_type": "markdown",
      "metadata": {
        "id": "EPkQy5lkYVPq",
        "colab_type": "text"
      },
      "source": [
        "*Deciding which threshold to use*"
      ]
    },
    {
      "cell_type": "markdown",
      "metadata": {
        "id": "aYN7sDM8YfwP",
        "colab_type": "text"
      },
      "source": [
        "*Precision Recall Curve*"
      ]
    },
    {
      "cell_type": "code",
      "metadata": {
        "id": "Btz8UcXZTiZm",
        "colab_type": "code",
        "colab": {
          "base_uri": "https://localhost:8080/",
          "height": 50
        },
        "outputId": "a1e7b276-da9a-4f5f-8c21-9fb9bd1e19b8"
      },
      "source": [
        "#by using method=decision function you get the scores for prediciton instead of the predcition\n",
        "y_scores = cross_val_predict(sgd_clf, X_train, y_train_5, cv=3, method='decision_function')\n",
        "y_scores"
      ],
      "execution_count": 18,
      "outputs": [
        {
          "output_type": "execute_result",
          "data": {
            "text/plain": [
              "array([  1200.93051237, -26883.79202424, -33072.03475406, ...,\n",
              "        13272.12718981,  -7258.47203373, -16877.50840447])"
            ]
          },
          "metadata": {
            "tags": []
          },
          "execution_count": 18
        }
      ]
    },
    {
      "cell_type": "code",
      "metadata": {
        "id": "iIda7vOPX6Ou",
        "colab_type": "code",
        "colab": {}
      },
      "source": [
        "from sklearn.metrics import precision_recall_curve\n",
        "precisions, recalls, thresholds = precision_recall_curve(y_train_5, y_scores)"
      ],
      "execution_count": 19,
      "outputs": []
    },
    {
      "cell_type": "code",
      "metadata": {
        "id": "OB_Y_ovtZCTm",
        "colab_type": "code",
        "colab": {
          "base_uri": "https://localhost:8080/",
          "height": 265
        },
        "outputId": "2fc53602-23a3-4809-8354-58124037d22e"
      },
      "source": [
        "def plot_precision_recall_vs_threshold(precisions, recalls, thresholds):\n",
        "  plt.plot(thresholds, precisions[:-1], 'b--', label='precisions')\n",
        "  plt.plot(thresholds, recalls[:-1], 'g--', label='Recall')\n",
        "  plt.grid(b=True)\n",
        "\n",
        "plot_precision_recall_vs_threshold(precisions, recalls, thresholds)\n",
        "plt.show()"
      ],
      "execution_count": 20,
      "outputs": [
        {
          "output_type": "display_data",
          "data": {
            "image/png": "[encoded data removed]",
            "text/plain": [
              "<Figure size 432x288 with 1 Axes>"
            ]
          },
          "metadata": {
            "tags": [],
            "needs_background": "light"
          }
        }
      ]
    },
    {
      "cell_type": "code",
      "metadata": {
        "id": "mQhHXyz6d3o1",
        "colab_type": "code",
        "colab": {
          "base_uri": "https://localhost:8080/",
          "height": 265
        },
        "outputId": "120241a9-cb72-4c8e-fb78-e33ba79140af"
      },
      "source": [
        "plt.plot(precisions, recalls)\n",
        "plt.show()"
      ],
      "execution_count": 21,
      "outputs": [
        {
          "output_type": "display_data",
          "data": {
            "image/png": "[encoded data removed]",
            "text/plain": [
              "<Figure size 432x288 with 1 Axes>"
            ]
          },
          "metadata": {
            "tags": [],
            "needs_background": "light"
          }
        }
      ]
    },
    {
      "cell_type": "code",
      "metadata": {
        "id": "lO4XbmH8bTN_",
        "colab_type": "code",
        "colab": {
          "base_uri": "https://localhost:8080/",
          "height": 34
        },
        "outputId": "abbfb869-90ae-4047-f068-139e9fbb5012"
      },
      "source": [
        "threshold_90_precision = thresholds[np.argmax(precisions >=0.9)]\n",
        "threshold_90_precision"
      ],
      "execution_count": 22,
      "outputs": [
        {
          "output_type": "execute_result",
          "data": {
            "text/plain": [
              "3370.0194991439557"
            ]
          },
          "metadata": {
            "tags": []
          },
          "execution_count": 22
        }
      ]
    },
    {
      "cell_type": "code",
      "metadata": {
        "id": "EvKKIZCZc8LL",
        "colab_type": "code",
        "colab": {}
      },
      "source": [
        "y_train_pred_90 = (y_scores >= threshold_90_precision)"
      ],
      "execution_count": 23,
      "outputs": []
    },
    {
      "cell_type": "code",
      "metadata": {
        "id": "TIotHFFjdPwC",
        "colab_type": "code",
        "colab": {
          "base_uri": "https://localhost:8080/",
          "height": 34
        },
        "outputId": "1e507616-45f5-4103-b8bc-c992518fea11"
      },
      "source": [
        "precision_score(y_train_5, y_train_pred_90)"
      ],
      "execution_count": 24,
      "outputs": [
        {
          "output_type": "execute_result",
          "data": {
            "text/plain": [
              "0.9000345901072293"
            ]
          },
          "metadata": {
            "tags": []
          },
          "execution_count": 24
        }
      ]
    },
    {
      "cell_type": "code",
      "metadata": {
        "id": "AwmzVYCNdXEO",
        "colab_type": "code",
        "colab": {
          "base_uri": "https://localhost:8080/",
          "height": 34
        },
        "outputId": "b11f50cf-1aba-48aa-d045-531898b77717"
      },
      "source": [
        "recall_score(y_train_5, y_train_pred_90)"
      ],
      "execution_count": 25,
      "outputs": [
        {
          "output_type": "execute_result",
          "data": {
            "text/plain": [
              "0.4799852425751706"
            ]
          },
          "metadata": {
            "tags": []
          },
          "execution_count": 25
        }
      ]
    },
    {
      "cell_type": "markdown",
      "metadata": {
        "id": "m4Y43YhSd6rq",
        "colab_type": "text"
      },
      "source": [
        "*ROC Curve*"
      ]
    },
    {
      "cell_type": "code",
      "metadata": {
        "id": "7BkuUKcidcWb",
        "colab_type": "code",
        "colab": {
          "base_uri": "https://localhost:8080/",
          "height": 279
        },
        "outputId": "de3b1f30-7e1f-4bbe-a0ba-777f8549325d"
      },
      "source": [
        "from sklearn.metrics import roc_curve\n",
        "fpr, tpr, thresholds = roc_curve(y_train_5, y_scores)\n",
        "\n",
        "def plot_roc_curve(fpr, tpr, label=None):\n",
        "  plt.plot(fpr, tpr, linewidth=2, label=label)\n",
        "  plt.plot([0,1], [0,1], 'k--')\n",
        "  plt.grid(b=True)\n",
        "  plt.xlabel(\"False Positive Rate\")\n",
        "  plt.ylabel('Recall')\n",
        "  [...]\n",
        "\n",
        "plot_roc_curve(fpr, tpr)\n",
        "plt.show()"
      ],
      "execution_count": 26,
      "outputs": [
        {
          "output_type": "display_data",
          "data": {
            "image/png": "[encoded data removed]",
            "text/plain": [
              "<Figure size 432x288 with 1 Axes>"
            ]
          },
          "metadata": {
            "tags": [],
            "needs_background": "light"
          }
        }
      ]
    },
    {
      "cell_type": "markdown",
      "metadata": {
        "id": "-7FP1orBz16F",
        "colab_type": "text"
      },
      "source": [
        "*Measuring the area under the curve*"
      ]
    },
    {
      "cell_type": "code",
      "metadata": {
        "id": "z3ytlJwBwVnr",
        "colab_type": "code",
        "colab": {
          "base_uri": "https://localhost:8080/",
          "height": 34
        },
        "outputId": "0152f1b7-cbba-4ee2-a8c8-c6be7090c638"
      },
      "source": [
        "#ROC score closer to 1 the more accurate the classifier\n",
        "from sklearn.metrics import roc_auc_score\n",
        "roc_auc_score(y_train_5, y_scores)"
      ],
      "execution_count": 27,
      "outputs": [
        {
          "output_type": "execute_result",
          "data": {
            "text/plain": [
              "0.9604938554008616"
            ]
          },
          "metadata": {
            "tags": []
          },
          "execution_count": 27
        }
      ]
    },
    {
      "cell_type": "code",
      "metadata": {
        "id": "rP5XD1ut0MUx",
        "colab_type": "code",
        "colab": {
          "base_uri": "https://localhost:8080/",
          "height": 50
        },
        "outputId": "c5cd1f90-450d-451e-a695-6cb52a0a378f"
      },
      "source": [
        "y_scores"
      ],
      "execution_count": 28,
      "outputs": [
        {
          "output_type": "execute_result",
          "data": {
            "text/plain": [
              "array([  1200.93051237, -26883.79202424, -33072.03475406, ...,\n",
              "        13272.12718981,  -7258.47203373, -16877.50840447])"
            ]
          },
          "metadata": {
            "tags": []
          },
          "execution_count": 28
        }
      ]
    },
    {
      "cell_type": "markdown",
      "metadata": {
        "id": "oJGVAeXH4Z_k",
        "colab_type": "text"
      },
      "source": [
        "Training a RandomForestClassifier"
      ]
    },
    {
      "cell_type": "code",
      "metadata": {
        "id": "krwrNTki2b9O",
        "colab_type": "code",
        "colab": {
          "base_uri": "https://localhost:8080/",
          "height": 134
        },
        "outputId": "92d9a7d2-edec-4763-b433-4e17c48bb984"
      },
      "source": [
        "from sklearn.ensemble import RandomForestClassifier\n",
        "forest_clf = RandomForestClassifier(random_state=42)\n",
        "y_probas_forest = cross_val_predict(forest_clf, X_train, y_train_5, cv=3,\n",
        "                                    method='predict_proba')\n",
        "y_probas_forest"
      ],
      "execution_count": 29,
      "outputs": [
        {
          "output_type": "execute_result",
          "data": {
            "text/plain": [
              "array([[0.11, 0.89],\n",
              "       [0.99, 0.01],\n",
              "       [0.96, 0.04],\n",
              "       ...,\n",
              "       [0.02, 0.98],\n",
              "       [0.92, 0.08],\n",
              "       [0.94, 0.06]])"
            ]
          },
          "metadata": {
            "tags": []
          },
          "execution_count": 29
        }
      ]
    },
    {
      "cell_type": "markdown",
      "metadata": {
        "id": "fQz2fojj6C1w",
        "colab_type": "text"
      },
      "source": [
        "ROC curve for RandomForestClassifier"
      ]
    },
    {
      "cell_type": "code",
      "metadata": {
        "id": "c7kAMLOu55qK",
        "colab_type": "code",
        "colab": {}
      },
      "source": [
        "y_scores_forest = y_probas_forest[:, 1]\n",
        "fpr_forest, tpr_forest, thresholds_forest = roc_curve(y_train_5, y_scores_forest)"
      ],
      "execution_count": 30,
      "outputs": []
    },
    {
      "cell_type": "code",
      "metadata": {
        "id": "VvyDDOTZ66Gm",
        "colab_type": "code",
        "colab": {
          "base_uri": "https://localhost:8080/",
          "height": 279
        },
        "outputId": "6d4690f8-112f-42a7-ac10-4722dae281c0"
      },
      "source": [
        "plt.plot(fpr, tpr, label='SGD')\n",
        "plot_roc_curve(fpr_forest, tpr_forest, \"Random Forest\")\n",
        "plt.legend(loc='lower right')\n",
        "plt.show()"
      ],
      "execution_count": 31,
      "outputs": [
        {
          "output_type": "display_data",
          "data": {
            "image/png": "[encoded data removed]",
            "text/plain": [
              "<Figure size 432x288 with 1 Axes>"
            ]
          },
          "metadata": {
            "tags": [],
            "needs_background": "light"
          }
        }
      ]
    },
    {
      "cell_type": "code",
      "metadata": {
        "id": "2m81EUDM7i3Z",
        "colab_type": "code",
        "colab": {
          "base_uri": "https://localhost:8080/",
          "height": 34
        },
        "outputId": "48c78dc7-5397-434a-b970-2aa3e62cb245"
      },
      "source": [
        "roc_auc_score(y_train_5, y_scores_forest)"
      ],
      "execution_count": 32,
      "outputs": [
        {
          "output_type": "execute_result",
          "data": {
            "text/plain": [
              "0.9983436731328145"
            ]
          },
          "metadata": {
            "tags": []
          },
          "execution_count": 32
        }
      ]
    },
    {
      "cell_type": "code",
      "metadata": {
        "id": "2mp1Kndb8T-z",
        "colab_type": "code",
        "colab": {
          "base_uri": "https://localhost:8080/",
          "height": 34
        },
        "outputId": "58635d23-0f6e-4c61-a27b-c77db20cf8d5"
      },
      "source": [
        "y_pred_rf = cross_val_predict(forest_clf, X_train, y_train_5, cv=3)\n",
        "# forest_clf.fit(X_train, y_train_5)\n",
        "# y_pred_rf = forest_clf.predict(X_train)\n",
        "precision_score(y_train_5, y_pred_rf)"
      ],
      "execution_count": 36,
      "outputs": [
        {
          "output_type": "execute_result",
          "data": {
            "text/plain": [
              "0.9905083315756169"
            ]
          },
          "metadata": {
            "tags": []
          },
          "execution_count": 36
        }
      ]
    },
    {
      "cell_type": "code",
      "metadata": {
        "id": "nMrEohbBBgn1",
        "colab_type": "code",
        "colab": {
          "base_uri": "https://localhost:8080/",
          "height": 34
        },
        "outputId": "95d202b4-2e72-483f-8253-0c92d1c24ec0"
      },
      "source": [
        "recall_score(y_train_5, y_pred_rf)"
      ],
      "execution_count": 37,
      "outputs": [
        {
          "output_type": "execute_result",
          "data": {
            "text/plain": [
              "0.8662608374838591"
            ]
          },
          "metadata": {
            "tags": []
          },
          "execution_count": 37
        }
      ]
    },
    {
      "cell_type": "markdown",
      "metadata": {
        "id": "E03oBhlK2ym6",
        "colab_type": "text"
      },
      "source": [
        "My Structure for Evaluation"
      ]
    },
    {
      "cell_type": "markdown",
      "metadata": {
        "id": "Ei0KHXqI2yS1",
        "colab_type": "text"
      },
      "source": [
        "Import Models"
      ]
    },
    {
      "cell_type": "code",
      "metadata": {
        "id": "KAwA0hv0B8R9",
        "colab_type": "code",
        "colab": {}
      },
      "source": [
        "from sklearn.linear_model import SGDClassifier\n",
        "from sklearn.ensemble import RandomForestClassifier\n",
        "\n",
        "SGD_classifier = SGDClassifier()\n",
        "RF_classifier = RandomForestClassifier()"
      ],
      "execution_count": 40,
      "outputs": []
    },
    {
      "cell_type": "markdown",
      "metadata": {
        "id": "PQ38g8ak3n3r",
        "colab_type": "text"
      },
      "source": [
        "Cross validation predictions for the models"
      ]
    },
    {
      "cell_type": "code",
      "metadata": {
        "id": "WaDxbQOh3rm-",
        "colab_type": "code",
        "colab": {}
      },
      "source": [
        "from sklearn.model_selection import cross_val_predict\n",
        "\n",
        "y_pred_SGD = cross_val_predict(SGD_classifier, X_train, y_train_5, cv=3)\n",
        "y_pred_RF = cross_val_predict(RF_classifier,X_train, y_train_5, cv=3)"
      ],
      "execution_count": 42,
      "outputs": []
    },
    {
      "cell_type": "markdown",
      "metadata": {
        "id": "jNaprTPs5D92",
        "colab_type": "text"
      },
      "source": [
        "Calculating Precision, recall and F1 scores"
      ]
    },
    {
      "cell_type": "code",
      "metadata": {
        "id": "vKQyEbzJ4G5q",
        "colab_type": "code",
        "colab": {
          "base_uri": "https://localhost:8080/",
          "height": 67
        },
        "outputId": "6dd68711-f956-4908-eb3f-9262168d4095"
      },
      "source": [
        "from sklearn.metrics import precision_score\n",
        "from sklearn.metrics import recall_score\n",
        "from sklearn.metrics import f1_score\n",
        "\n",
        "#precision scores\n",
        "precision_score_SGD = precision_score(y_train_5,y_pred_SGD)\n",
        "precision_score_RF = precision_score(y_train_5,y_pred_RF)\n",
        "\n",
        "#recall scores\n",
        "recall_score_SGD = recall_score(y_train_5,y_pred_SGD)\n",
        "recall_score_RF = recall_score(y_train_5,y_pred_RF)\n",
        "\n",
        "#F1 scores\n",
        "f1_score_SGD = f1_score(y_train_5,y_pred_SGD)\n",
        "f1_score_RF = f1_score(y_train_5,y_pred_RF)\n",
        "\n",
        "print(f'Precision score for SGD: {precision_score_SGD}, RF: {precision_score_RF}')\n",
        "print(f'Recall score for SGD:    {recall_score_SGD}, RF: {recall_score_RF}')\n",
        "print(f'f1 score for SGD:        {f1_score_SGD}, RF: {f1_score_RF}')"
      ],
      "execution_count": 46,
      "outputs": [
        {
          "output_type": "stream",
          "text": [
            "Precision score for SGD: 0.7982472496736901, RF: 0.98989898989899\n",
            "Recall score for SGD:    0.7897066961815163, RF: 0.8677365799667958\n",
            "f1 score for SGD:        0.7939540059347181, RF: 0.9248009436744323\n"
          ],
          "name": "stdout"
        }
      ]
    },
    {
      "cell_type": "markdown",
      "metadata": {
        "id": "2ZSNqwT9BVKE",
        "colab_type": "text"
      },
      "source": [
        "Ploting PRC Curves and ROC Curves for the models"
      ]
    },
    {
      "cell_type": "code",
      "metadata": {
        "id": "c66qmTs9A6HQ",
        "colab_type": "code",
        "colab": {}
      },
      "source": [
        "# Importing the cureves\n",
        "from sklearn.metrics import plot_precision_recall_curve\n",
        "from sklearn.metrics import plot_roc_curve\n",
        "\n",
        "# get prediction scores for the models\n",
        "y_scores_SGD = cross_val_predict(SGD_classifier, X_train, y_train_5, method='decision_function', cv=3 )\n",
        "RF_probability = cross_val_predict(RF_classifier, X_train, y_train_5, method='predict_proba', cv=3 )\n",
        "y_scores_RF = RF_probability[:, 1]"
      ],
      "execution_count": 51,
      "outputs": []
    },
    {
      "cell_type": "code",
      "metadata": {
        "id": "6AGMZ4_HDPrO",
        "colab_type": "code",
        "colab": {}
      },
      "source": [
        "# get metrics from curves\n",
        "# PRC Curve\n",
        "precision_SGD, recall_SGD, threshold_SGD = precision_recall_curve(y_train_5, y_scores_SGD)\n",
        "precision_RF, recall_RF, threshold_RF = precision_recall_curve(y_train_5, y_scores_RF)\n",
        "\n",
        "#ROC Curve\n",
        "fpr_SGD, recall_ROC_SGD, threshold_SGD = roc_curve(y_train_5, y_scores_SGD)\n",
        "fpr_RF, recall_ROC_RF, threshold_RF = roc_curve(y_train_5, y_scores_RF)"
      ],
      "execution_count": 57,
      "outputs": []
    },
    {
      "cell_type": "code",
      "metadata": {
        "id": "1z3L2WcTIzQE",
        "colab_type": "code",
        "colab": {
          "base_uri": "https://localhost:8080/",
          "height": 295
        },
        "outputId": "2e2c566a-681e-4bc9-e96d-941f9226eeb8"
      },
      "source": [
        "#plotting the curves\n",
        "#plotting the PRC curve\n",
        "plt.title('PRC Curve - SGD vs RandomForest')\n",
        "plt.plot(recall_SGD, precision_SGD, label='SGD')\n",
        "plt.plot(recall_RF, precision_RF, label='RandomForest')\n",
        "plt.legend(loc='lower left')\n",
        "plt.xlabel('Recall')\n",
        "plt.ylabel('Precision')\n",
        "plt.grid(b=True)\n",
        "plt.show()"
      ],
      "execution_count": 68,
      "outputs": [
        {
          "output_type": "display_data",
          "data": {
            "image/png": "[encoded data removed]",
            "text/plain": [
              "<Figure size 432x288 with 1 Axes>"
            ]
          },
          "metadata": {
            "tags": [],
            "needs_background": "light"
          }
        }
      ]
    },
    {
      "cell_type": "code",
      "metadata": {
        "id": "QuHzxfRQJ0D9",
        "colab_type": "code",
        "colab": {
          "base_uri": "https://localhost:8080/",
          "height": 295
        },
        "outputId": "4f84429a-6844-48b2-af91-30f43ed2a5f5"
      },
      "source": [
        "#plotting the ROC Curve\n",
        "plt.title('ROC Curve- SGD vs RandomForest')\n",
        "plt.plot(fpr_SGD, recall_ROC_SGD, label='SGD')\n",
        "plt.plot(fpr_RF, recall_ROC_RF, label='Random Forest')\n",
        "plt.plot([0,1],[0,1], 'k--')\n",
        "plt.legend(loc='lower right')\n",
        "plt.xlabel('False Positive')\n",
        "plt.ylabel('Recall')\n",
        "plt.grid(b=True)\n",
        "plt.show()"
      ],
      "execution_count": 75,
      "outputs": [
        {
          "output_type": "display_data",
          "data": {
            "image/png": "[encoded data removed]",
            "text/plain": [
              "<Figure size 432x288 with 1 Axes>"
            ]
          },
          "metadata": {
            "tags": [],
            "needs_background": "light"
          }
        }
      ]
    },
    {
      "cell_type": "code",
      "metadata": {
        "id": "kgOnW04eM_Yx",
        "colab_type": "code",
        "colab": {}
      },
      "source": [
        ""
      ],
      "execution_count": null,
      "outputs": []
    }
  ]
}